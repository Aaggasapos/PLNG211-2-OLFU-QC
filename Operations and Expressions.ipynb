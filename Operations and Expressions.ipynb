{
  "nbformat": 4,
  "nbformat_minor": 0,
  "metadata": {
    "colab": {
      "provenance": [],
      "authorship_tag": "ABX9TyOiVCctHFKVRIXs/dPEyXIv",
      "include_colab_link": true
    },
    "kernelspec": {
      "name": "python3",
      "display_name": "Python 3"
    },
    "language_info": {
      "name": "python"
    }
  },
  "cells": [
    {
      "cell_type": "markdown",
      "metadata": {
        "id": "view-in-github",
        "colab_type": "text"
      },
      "source": [
        "<a href=\"https://colab.research.google.com/github/Aaggasapos/PLNG211-2-OLFU-QC/blob/main/Operations%20and%20Expressions.ipynb\" target=\"_parent\"><img src=\"https://colab.research.google.com/assets/colab-badge.svg\" alt=\"Open In Colab\"/></a>"
      ]
    },
    {
      "cell_type": "markdown",
      "source": [
        "# Boolean Operators"
      ],
      "metadata": {
        "id": "QUcIUBqoRFlq"
      }
    },
    {
      "cell_type": "code",
      "source": [
        "a = 10\n",
        "b = 5\n",
        "print(a>b)\n",
        "print(b==a)\n",
        "print(5>10)\n"
      ],
      "metadata": {
        "colab": {
          "base_uri": "https://localhost:8080/"
        },
        "id": "aunrZIS7RT9O",
        "outputId": "792a7d19-d587-41b2-ba79-ec1b917b4ccc"
      },
      "execution_count": 4,
      "outputs": [
        {
          "output_type": "stream",
          "name": "stdout",
          "text": [
            "True\n",
            "False\n",
            "False\n"
          ]
        }
      ]
    },
    {
      "cell_type": "markdown",
      "source": [
        "# Boolean () Function"
      ],
      "metadata": {
        "id": "H4jiT02CRaTn"
      }
    },
    {
      "cell_type": "code",
      "source": [
        "print(bool(2))\n",
        "print(bool(\"Hello!\"))\n",
        "print(bool(0))\n",
        "print(bool(None))\n"
      ],
      "metadata": {
        "colab": {
          "base_uri": "https://localhost:8080/"
        },
        "id": "0Tu-6_wKRbqP",
        "outputId": "89966c05-a47b-4e12-d57e-f5ced7f5c6b0"
      },
      "execution_count": 5,
      "outputs": [
        {
          "output_type": "stream",
          "name": "stdout",
          "text": [
            "True\n",
            "True\n",
            "False\n",
            "False\n"
          ]
        }
      ]
    },
    {
      "cell_type": "markdown",
      "source": [
        "Functions that returns a boolean answer\n",
        "# New section"
      ],
      "metadata": {
        "id": "VcgRPaNKRegg"
      }
    },
    {
      "cell_type": "code",
      "source": [
        "def My_Function():\n",
        "  return False\n",
        "\n",
        "if My_Function():\n",
        "  print(\"Correct\")\n",
        "else:\n",
        "  print(\"Incorrect\")"
      ],
      "metadata": {
        "colab": {
          "base_uri": "https://localhost:8080/"
        },
        "id": "q2S13vvORhT_",
        "outputId": "b253b75b-7740-48d7-e123-0c3ddfcc6b47"
      },
      "execution_count": 8,
      "outputs": [
        {
          "output_type": "stream",
          "name": "stdout",
          "text": [
            "Incorrect\n"
          ]
        }
      ]
    },
    {
      "cell_type": "markdown",
      "source": [
        "You try!"
      ],
      "metadata": {
        "id": "ggdCRhgKRkpW"
      }
    },
    {
      "cell_type": "code",
      "source": [
        "c = 6\n",
        "d = 7\n",
        "print(c==d)\n",
        "print(c!=d)\n"
      ],
      "metadata": {
        "colab": {
          "base_uri": "https://localhost:8080/"
        },
        "id": "XHHrkmtVRnEG",
        "outputId": "cbeafe40-b805-4cfd-dc05-d02adf80a7c9"
      },
      "execution_count": 9,
      "outputs": [
        {
          "output_type": "stream",
          "name": "stdout",
          "text": [
            "False\n",
            "True\n"
          ]
        }
      ]
    },
    {
      "cell_type": "code",
      "source": [
        "c = 6\n",
        "d = 7\n",
        "c== d\n",
        "c!= d\n"
      ],
      "metadata": {
        "colab": {
          "base_uri": "https://localhost:8080/"
        },
        "id": "ohD7vQ7GR8Pj",
        "outputId": "50bbb808-091d-489f-bcd7-ee88bf49db70"
      },
      "execution_count": 10,
      "outputs": [
        {
          "output_type": "execute_result",
          "data": {
            "text/plain": [
              "True"
            ]
          },
          "metadata": {},
          "execution_count": 10
        }
      ]
    },
    {
      "cell_type": "markdown",
      "source": [
        "# Python Operatos"
      ],
      "metadata": {
        "id": "5wg1N2mJR9Ez"
      }
    },
    {
      "cell_type": "code",
      "source": [
        "print(5+15)\n",
        "print(15-5)\n",
        "print(5*5)\n",
        "print(5**5)\n",
        "print(9/3)\n",
        "print(9/4)\n",
        "print(9%4)\n"
      ],
      "metadata": {
        "colab": {
          "base_uri": "https://localhost:8080/"
        },
        "id": "6YfyL4i9R-yi",
        "outputId": "1722c68d-134c-40ea-f511-242330dbe708"
      },
      "execution_count": 11,
      "outputs": [
        {
          "output_type": "stream",
          "name": "stdout",
          "text": [
            "20\n",
            "10\n",
            "25\n",
            "3125\n",
            "3.0\n",
            "2.25\n",
            "1\n"
          ]
        }
      ]
    },
    {
      "cell_type": "markdown",
      "source": [
        "# Bitwise Operators"
      ],
      "metadata": {
        "id": "R8QCQbAiSCEC"
      }
    },
    {
      "cell_type": "code",
      "source": [
        "e = 60\n",
        "f = 13\n",
        "e & f\n"
      ],
      "metadata": {
        "colab": {
          "base_uri": "https://localhost:8080/"
        },
        "id": "3gPlbzaZSDGx",
        "outputId": "5a28291c-5be4-4a23-e51e-01a57d75ac70"
      },
      "execution_count": 13,
      "outputs": [
        {
          "output_type": "execute_result",
          "data": {
            "text/plain": [
              "12"
            ]
          },
          "metadata": {},
          "execution_count": 13
        }
      ]
    },
    {
      "cell_type": "code",
      "source": [
        "e = 60\n",
        "f = 13\n",
        "e ^ f\n"
      ],
      "metadata": {
        "colab": {
          "base_uri": "https://localhost:8080/"
        },
        "id": "qIhr5HM2SEwJ",
        "outputId": "da85bab8-448e-4567-c13e-445637cd4ff2"
      },
      "execution_count": 12,
      "outputs": [
        {
          "output_type": "execute_result",
          "data": {
            "text/plain": [
              "49"
            ]
          },
          "metadata": {},
          "execution_count": 12
        }
      ]
    },
    {
      "cell_type": "code",
      "source": [
        "e = 60\n",
        "f = 13\n",
        "print(e>>1)\n",
        "print(e<<1)\n",
        "print(~f)\n"
      ],
      "metadata": {
        "colab": {
          "base_uri": "https://localhost:8080/"
        },
        "id": "E-a794DKSGs6",
        "outputId": "42c661a8-a622-461a-d6d4-7889795c3a70"
      },
      "execution_count": 14,
      "outputs": [
        {
          "output_type": "stream",
          "name": "stdout",
          "text": [
            "30\n",
            "120\n",
            "-14\n"
          ]
        }
      ]
    },
    {
      "cell_type": "markdown",
      "source": [
        "# Python Assignment Operators"
      ],
      "metadata": {
        "id": "cJtx71O3SKno"
      }
    },
    {
      "cell_type": "code",
      "source": [
        "x = 18\n",
        "y = 7\n",
        "x += 3\n",
        "print(\"x = \",x)\n"
      ],
      "metadata": {
        "colab": {
          "base_uri": "https://localhost:8080/"
        },
        "id": "Vk-Lr3Q3SLXg",
        "outputId": "eac93f64-5bbc-4b65-bbe7-ca16f3c6b895"
      },
      "execution_count": 15,
      "outputs": [
        {
          "output_type": "stream",
          "name": "stdout",
          "text": [
            "x =  21\n"
          ]
        }
      ]
    },
    {
      "cell_type": "markdown",
      "source": [
        "# Logical Operators"
      ],
      "metadata": {
        "id": "pvCxAjGvSOT3"
      }
    },
    {
      "cell_type": "code",
      "source": [
        "x and y\n",
        "7\n",
        "print(x>y and x == x)\n",
        "print(y!=y or x == y)\n",
        "print(not(y!=y or x==y))\n"
      ],
      "metadata": {
        "colab": {
          "base_uri": "https://localhost:8080/"
        },
        "id": "Z_4QPVAZSPTQ",
        "outputId": "fbd930f3-143a-4c18-8d35-c29833578825"
      },
      "execution_count": 16,
      "outputs": [
        {
          "output_type": "stream",
          "name": "stdout",
          "text": [
            "True\n",
            "False\n",
            "True\n"
          ]
        }
      ]
    },
    {
      "cell_type": "markdown",
      "source": [
        "\n",
        "# Identity Operators\n",
        "\n"
      ],
      "metadata": {
        "id": "M4ASlNUGSR_K"
      }
    },
    {
      "cell_type": "code",
      "source": [
        "#is, is not\n",
        "print(x is y)\n",
        "print(x is x)\n",
        "print(x is not y)\n"
      ],
      "metadata": {
        "colab": {
          "base_uri": "https://localhost:8080/"
        },
        "id": "py5_5ci1SVgJ",
        "outputId": "2b9efbc1-34ec-4611-d3a0-8a2e1aba3449"
      },
      "execution_count": 17,
      "outputs": [
        {
          "output_type": "stream",
          "name": "stdout",
          "text": [
            "False\n",
            "True\n",
            "True\n"
          ]
        }
      ]
    }
  ]
}