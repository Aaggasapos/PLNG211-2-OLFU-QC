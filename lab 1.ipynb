{
  "nbformat": 4,
  "nbformat_minor": 0,
  "metadata": {
    "colab": {
      "provenance": [],
      "authorship_tag": "ABX9TyNBkA9wCidFtmRi022CEJyO",
      "include_colab_link": true
    },
    "kernelspec": {
      "name": "python3",
      "display_name": "Python 3"
    },
    "language_info": {
      "name": "python"
    }
  },
  "cells": [
    {
      "cell_type": "markdown",
      "metadata": {
        "id": "view-in-github",
        "colab_type": "text"
      },
      "source": [
        "<a href=\"https://colab.research.google.com/github/Aaggasapos/PLNG211-2-OLFU-QC/blob/main/lab%201.ipynb\" target=\"_parent\"><img src=\"https://colab.research.google.com/assets/colab-badge.svg\" alt=\"Open In Colab\"/></a>"
      ]
    },
    {
      "cell_type": "markdown",
      "source": [
        "Number 1\n"
      ],
      "metadata": {
        "id": "N8d_fF6SOLHQ"
      }
    },
    {
      "cell_type": "code",
      "source": [
        "array = [1,2,3,4,5,6,7,8,9,10]\n",
        "\n",
        "sum = 0\n",
        "for x in array:\n",
        "    \n",
        " print(x)\n",
        "sum += x\n",
        "\n",
        "print(\"Sum =\", sum)"
      ],
      "metadata": {
        "id": "yxZyFDXmOWCm"
      },
      "execution_count": null,
      "outputs": []
    },
    {
      "cell_type": "markdown",
      "source": [
        "Number 2"
      ],
      "metadata": {
        "id": "iT_NJnetOXvW"
      }
    },
    {
      "cell_type": "code",
      "source": [
        "numbers = [1,2,3,4,5,6,7,8,9,10]\n",
        "\n",
        "numbers.append(11)\n",
        "print(numbers)"
      ],
      "metadata": {
        "id": "gFUgWwXiOZDW"
      },
      "execution_count": null,
      "outputs": []
    },
    {
      "cell_type": "markdown",
      "source": [
        "Number 3"
      ],
      "metadata": {
        "id": "_iCOdnSeOaIu"
      }
    },
    {
      "cell_type": "code",
      "source": [
        "numbers = [1,2,3,4,5,6,7,8,9,10]\n",
        "\n",
        "numbers.insert(1,1.5)\n",
        "print(numbers)"
      ],
      "metadata": {
        "id": "C53qZZz0OaWm"
      },
      "execution_count": null,
      "outputs": []
    },
    {
      "cell_type": "markdown",
      "source": [
        "Number 4"
      ],
      "metadata": {
        "id": "O_q_f3z3Om8P"
      }
    },
    {
      "cell_type": "code",
      "source": [
        "numbers = [5, 4, 3, 2, 1]\n",
        "\n",
        "numbers.reverse()\n",
        "print(numbers)"
      ],
      "metadata": {
        "id": "pjjoRjSoOoZk"
      },
      "execution_count": null,
      "outputs": []
    },
    {
      "cell_type": "markdown",
      "source": [
        "Number 5"
      ],
      "metadata": {
        "id": "ExqCwS9pOqWM"
      }
    },
    {
      "cell_type": "code",
      "source": [
        "numbers = [5, 4, 3, 2, 1]\n",
        "n = len(numbers)\n",
        "print(n)"
      ],
      "metadata": {
        "id": "EYyzbx8NOrat"
      },
      "execution_count": null,
      "outputs": []
    }
  ]
}