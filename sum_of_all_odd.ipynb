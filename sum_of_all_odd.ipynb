{
  "nbformat": 4,
  "nbformat_minor": 0,
  "metadata": {
    "colab": {
      "provenance": [],
      "authorship_tag": "ABX9TyOAiC94bskvDaSI4SIfo/V2",
      "include_colab_link": true
    },
    "kernelspec": {
      "name": "python3",
      "display_name": "Python 3"
    },
    "language_info": {
      "name": "python"
    }
  },
  "cells": [
    {
      "cell_type": "markdown",
      "metadata": {
        "id": "view-in-github",
        "colab_type": "text"
      },
      "source": [
        "<a href=\"https://colab.research.google.com/github/Aaggasapos/PLNG211-2-OLFU-QC/blob/main/sum_of_all_odd.ipynb\" target=\"_parent\"><img src=\"https://colab.research.google.com/assets/colab-badge.svg\" alt=\"Open In Colab\"/></a>"
      ]
    },
    {
      "cell_type": "markdown",
      "source": [
        "GETTING TOTAL OF ALL ODD NUMBERS IN ARRAY USING FOR LOOP"
      ],
      "metadata": {
        "id": "dsdKbVar0Dij"
      }
    },
    {
      "cell_type": "code",
      "source": [
        "numbers=[26,49,98,87,62,75]\n",
        "sum=0;\n",
        "print(\"The odd numbers are: \")\n",
        "for x in numbers:\n",
        "  if (x %2 != 0): \n",
        "    sum=sum+x\n",
        "    print(x)\n",
        "print(\"The sum of the Odd numbers are:\",sum)"
      ],
      "metadata": {
        "id": "SR4w_A380Kqn",
        "outputId": "0448a3dd-6b44-4ce9-bc78-8b605c5317da",
        "colab": {
          "base_uri": "https://localhost:8080/"
        }
      },
      "execution_count": null,
      "outputs": [
        {
          "output_type": "stream",
          "name": "stdout",
          "text": [
            "The odd numbers are: \n",
            "49\n",
            "87\n",
            "75\n",
            "The sum of the Odd numbers are: 211\n"
          ]
        }
      ]
    }
  ]
}