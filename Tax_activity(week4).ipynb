{
  "nbformat": 4,
  "nbformat_minor": 0,
  "metadata": {
    "colab": {
      "provenance": [],
      "authorship_tag": "ABX9TyPpjYqyYLarRc4fcqRQSJy0",
      "include_colab_link": true
    },
    "kernelspec": {
      "name": "python3",
      "display_name": "Python 3"
    },
    "language_info": {
      "name": "python"
    }
  },
  "cells": [
    {
      "cell_type": "markdown",
      "metadata": {
        "id": "view-in-github",
        "colab_type": "text"
      },
      "source": [
        "<a href=\"https://colab.research.google.com/github/Aaggasapos/PLNG211-2-OLFU-QC/blob/main/Tax_activity(week4).ipynb\" target=\"_parent\"><img src=\"https://colab.research.google.com/assets/colab-badge.svg\" alt=\"Open In Colab\"/></a>"
      ]
    },
    {
      "cell_type": "code",
      "execution_count": 1,
      "metadata": {
        "colab": {
          "base_uri": "https://localhost:8080/"
        },
        "id": "0DhDmmu8YP96",
        "outputId": "02d842f6-fc32-4436-f30d-373d5c19167b"
      },
      "outputs": [
        {
          "output_type": "stream",
          "name": "stdout",
          "text": [
            "Salary:  9000\n",
            "Taxable Amount:  2700.0\n",
            "Net Pay:  6300.0\n"
          ]
        }
      ],
      "source": [
        "\n",
        "Rate=600\n",
        "Salary=600*15\n",
        "Tax=Salary*.3\n",
        "Net_pay=Salary-Tax\n",
        "print(\"Salary: \", Salary)\n",
        "print(\"Taxable Amount: \", Tax)\n",
        "print(\"Net Pay: \", Net_pay)"
      ]
    }
  ]
}