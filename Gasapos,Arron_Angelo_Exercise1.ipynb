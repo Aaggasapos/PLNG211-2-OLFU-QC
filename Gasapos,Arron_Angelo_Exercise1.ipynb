{
  "nbformat": 4,
  "nbformat_minor": 0,
  "metadata": {
    "colab": {
      "provenance": [],
      "authorship_tag": "ABX9TyMkz0JqGpt6lqzNc9souaXD",
      "include_colab_link": true
    },
    "kernelspec": {
      "name": "python3",
      "display_name": "Python 3"
    },
    "language_info": {
      "name": "python"
    }
  },
  "cells": [
    {
      "cell_type": "markdown",
      "metadata": {
        "id": "view-in-github",
        "colab_type": "text"
      },
      "source": [
        "<a href=\"https://colab.research.google.com/github/Aaggasapos/PLNG211-2-OLFU-QC/blob/main/Gasapos%2CArron_Angelo_Exercise1.ipynb\" target=\"_parent\"><img src=\"https://colab.research.google.com/assets/colab-badge.svg\" alt=\"Open In Colab\"/></a>"
      ]
    },
    {
      "cell_type": "code",
      "execution_count": 33,
      "metadata": {
        "colab": {
          "base_uri": "https://localhost:8080/"
        },
        "id": "LytoILsNvOlz",
        "outputId": "fcc47cb1-07fd-4125-97b6-99b38a3a0a9b"
      },
      "outputs": [
        {
          "output_type": "stream",
          "name": "stdout",
          "text": [
            "The Sum of Odd Numbers is:  211\n"
          ]
        }
      ],
      "source": [
        "import numpy as np\n",
        "Num = np.array([26,49,98,87,62,75])\n",
        "Sum = 0\n",
        "for i in range(len(Num)):\n",
        "  if (Num[i] % 2 != 0):\n",
        "      Sum = Sum + Num[i]\n",
        "print(\"The Sum of Odd Numbers is: \", Sum)"
      ]
    }
  ]
}