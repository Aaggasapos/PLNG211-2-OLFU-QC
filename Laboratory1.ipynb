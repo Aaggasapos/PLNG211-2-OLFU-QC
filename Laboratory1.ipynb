{
  "nbformat": 4,
  "nbformat_minor": 0,
  "metadata": {
    "colab": {
      "provenance": [],
      "authorship_tag": "ABX9TyNBkA9wCidFtmRi022CEJyO",
      "include_colab_link": true
    },
    "kernelspec": {
      "name": "python3",
      "display_name": "Python 3"
    },
    "language_info": {
      "name": "python"
    }
  },
  "cells": [
    {
      "cell_type": "markdown",
      "metadata": {
        "id": "view-in-github",
        "colab_type": "text"
      },
      "source": [
        "<a href=\"https://colab.research.google.com/github/Aaggasapos/PLNG211-2-OLFU-QC/blob/main/Laboratory1.ipynb\" target=\"_parent\"><img src=\"https://colab.research.google.com/assets/colab-badge.svg\" alt=\"Open In Colab\"/></a>"
      ]
    },
    {
      "cell_type": "markdown",
      "source": [
        "Number 1\n"
      ],
      "metadata": {
        "id": "N8d_fF6SOLHQ"
      }
    },
    {
      "cell_type": "code",
      "source": [
        "array = [1,2,3,4,5,6,7,8,9,10]\n",
        "\n",
        "sum = 0\n",
        "for x in array:\n",
        "    \n",
        " print(x)\n",
        "sum += x\n",
        "\n",
        "print(\"Sum =\", sum)"
      ],
      "metadata": {
        "id": "yxZyFDXmOWCm",
        "colab": {
          "base_uri": "https://localhost:8080/"
        },
        "outputId": "bfa94696-3e09-439a-afb0-7aa9fad42039"
      },
      "execution_count": 1,
      "outputs": [
        {
          "output_type": "stream",
          "name": "stdout",
          "text": [
            "1\n",
            "2\n",
            "3\n",
            "4\n",
            "5\n",
            "6\n",
            "7\n",
            "8\n",
            "9\n",
            "10\n",
            "Sum = 10\n"
          ]
        }
      ]
    },
    {
      "cell_type": "markdown",
      "source": [
        "Number 2"
      ],
      "metadata": {
        "id": "iT_NJnetOXvW"
      }
    },
    {
      "cell_type": "code",
      "source": [
        "numbers = [1,2,3,4,5,6,7,8,9,10]\n",
        "\n",
        "numbers.append(11)\n",
        "print(numbers)"
      ],
      "metadata": {
        "id": "gFUgWwXiOZDW",
        "colab": {
          "base_uri": "https://localhost:8080/"
        },
        "outputId": "29f1613e-3d5a-4d31-ed36-c0e60991b7c4"
      },
      "execution_count": 2,
      "outputs": [
        {
          "output_type": "stream",
          "name": "stdout",
          "text": [
            "[1, 2, 3, 4, 5, 6, 7, 8, 9, 10, 11]\n"
          ]
        }
      ]
    },
    {
      "cell_type": "markdown",
      "source": [
        "Number 3"
      ],
      "metadata": {
        "id": "_iCOdnSeOaIu"
      }
    },
    {
      "cell_type": "code",
      "source": [
        "numbers = [1,2,3,4,5,6,7,8,9,10]\n",
        "\n",
        "numbers.insert(1,1.5)\n",
        "print(numbers)"
      ],
      "metadata": {
        "id": "C53qZZz0OaWm",
        "colab": {
          "base_uri": "https://localhost:8080/"
        },
        "outputId": "b2fbe8d6-ddf6-47a9-ebea-040c917325dc"
      },
      "execution_count": 3,
      "outputs": [
        {
          "output_type": "stream",
          "name": "stdout",
          "text": [
            "[1, 1.5, 2, 3, 4, 5, 6, 7, 8, 9, 10]\n"
          ]
        }
      ]
    },
    {
      "cell_type": "markdown",
      "source": [
        "Number 4"
      ],
      "metadata": {
        "id": "O_q_f3z3Om8P"
      }
    },
    {
      "cell_type": "code",
      "source": [
        "numbers = [5, 4, 3, 2, 1]\n",
        "\n",
        "numbers.reverse()\n",
        "print(numbers)"
      ],
      "metadata": {
        "id": "pjjoRjSoOoZk",
        "colab": {
          "base_uri": "https://localhost:8080/"
        },
        "outputId": "d359acf6-6740-4fd3-eb04-05fcc3f6fda3"
      },
      "execution_count": 4,
      "outputs": [
        {
          "output_type": "stream",
          "name": "stdout",
          "text": [
            "[1, 2, 3, 4, 5]\n"
          ]
        }
      ]
    },
    {
      "cell_type": "markdown",
      "source": [
        "Number 5"
      ],
      "metadata": {
        "id": "ExqCwS9pOqWM"
      }
    },
    {
      "cell_type": "code",
      "source": [
        "numbers = [5, 4, 3, 2, 1]\n",
        "n = len(numbers)\n",
        "print(n)"
      ],
      "metadata": {
        "id": "EYyzbx8NOrat",
        "colab": {
          "base_uri": "https://localhost:8080/"
        },
        "outputId": "8e68d865-9c50-4039-f7a0-827b56b7a4f5"
      },
      "execution_count": 5,
      "outputs": [
        {
          "output_type": "stream",
          "name": "stdout",
          "text": [
            "5\n"
          ]
        }
      ]
    }
  ]
}