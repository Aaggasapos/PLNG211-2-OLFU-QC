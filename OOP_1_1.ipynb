{
  "nbformat": 4,
  "nbformat_minor": 0,
  "metadata": {
    "colab": {
      "provenance": [],
      "authorship_tag": "ABX9TyPTFGdrzxKYIfeKYtYfV+F1",
      "include_colab_link": true
    },
    "kernelspec": {
      "name": "python3",
      "display_name": "Python 3"
    },
    "language_info": {
      "name": "python"
    }
  },
  "cells": [
    {
      "cell_type": "markdown",
      "metadata": {
        "id": "view-in-github",
        "colab_type": "text"
      },
      "source": [
        "<a href=\"https://colab.research.google.com/github/Aaggasapos/PLNG211-2-OLFU-QC/blob/main/OOP_1_1.ipynb\" target=\"_parent\"><img src=\"https://colab.research.google.com/assets/colab-badge.svg\" alt=\"Open In Colab\"/></a>"
      ]
    },
    {
      "cell_type": "code",
      "execution_count": null,
      "metadata": {
        "colab": {
          "base_uri": "https://localhost:8080/"
        },
        "id": "RfOTINY8PHQU",
        "outputId": "da603a1b-d390-46a3-a6ca-b4451c03fcea"
      },
      "outputs": [
        {
          "output_type": "stream",
          "name": "stdout",
          "text": [
            "Arron Angelo G. Gasapos\n",
            "02210006748\n",
            "21\n",
            "OLFU QC\n",
            "BSCS\n"
          ]
        }
      ],
      "source": [
        "class Student:\n",
        "  def __init__( Student,Name,StudentNo,Age,School,Course):\n",
        "    Student.Name = Name\n",
        "    Student.StudentNo = StudentNo\n",
        "    Student.Age = Age\n",
        "    Student.School = School\n",
        "    Student.Course = Course\n",
        "  def myFunction(Student):\n",
        "      print(Student.Name)\n",
        "      print(Student.StudentNo)\n",
        "      print(Student.Age)\n",
        "      print(Student.School)\n",
        "      print(Student.Course)\n",
        "\n",
        "\n",
        "p1 = Student(\"Arron Angelo G. Gasapos\",\"02210006748\",21,\"OLFU QC\",\"BSCS\") \n",
        "p1.myFunction()"
      ]
    },
    {
      "cell_type": "code",
      "source": [
        "n = 20\n",
        "total_numbers = n\n",
        "sum = 0\n",
        "while n >= 0:\n",
        "  sum += n\n",
        "  n -= 1\n",
        "print(\"sum =\", sum)\n",
        "average = sum / total_numbers\n",
        "print(\"Average = \", average)"
      ],
      "metadata": {
        "id": "Ux4iHuUBSMN6",
        "outputId": "cbcc011d-af3e-422f-8e9d-de3b2d98b104",
        "colab": {
          "base_uri": "https://localhost:8080/"
        }
      },
      "execution_count": null,
      "outputs": [
        {
          "output_type": "stream",
          "name": "stdout",
          "text": [
            "sum = 210\n",
            "Average =  10.5\n"
          ]
        }
      ]
    }
  ]
}